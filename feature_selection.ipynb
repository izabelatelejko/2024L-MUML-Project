{
 "cells": [
  {
   "cell_type": "code",
   "execution_count": 32,
   "metadata": {},
   "outputs": [],
   "source": [
    "import numpy as np\n",
    "import pandas as pd\n",
    "\n",
    "from sklearn.preprocessing import LabelEncoder\n",
    "from sklearn.model_selection import train_test_split, cross_val_score\n",
    "from sklearn.metrics import accuracy_score\n",
    "from sklearn.ensemble import GradientBoostingClassifier\n",
    "from sklearn.svm import SVC\n",
    "from tqdm import tqdm\n",
    "from scipy.io import loadmat\n",
    "import matplotlib.pyplot as plt\n",
    "import seaborn as sns\n",
    "\n",
    "from src.data import generate_data, discretize_dataset\n",
    "from src.feature_selection import CMIM, JMIM, IGFS, wrapper_criterion, l1_selection, find_relevant_features"
   ]
  },
  {
   "cell_type": "code",
   "execution_count": 2,
   "metadata": {},
   "outputs": [],
   "source": [
    "X, y = generate_data(\n",
    "    betas=[6, 5, 4, 3, 2, 1],\n",
    "    dataset_variant=2\n",
    ")\n",
    "X_discr = np.copy(X)\n",
    "for i in range(X.shape[1]):\n",
    "    X_discr[:, i] = pd.cut(X[:, i], bins=10, labels=False)"
   ]
  },
  {
   "cell_type": "code",
   "execution_count": 3,
   "metadata": {},
   "outputs": [
    {
     "data": {
      "text/plain": [
       "[0, 1, 2, 3, 4, 6, 9]"
      ]
     },
     "execution_count": 3,
     "metadata": {},
     "output_type": "execute_result"
    }
   ],
   "source": [
    "best_predictors = wrapper_criterion(X, y, 'aic')\n",
    "best_predictors"
   ]
  },
  {
   "cell_type": "code",
   "execution_count": 4,
   "metadata": {},
   "outputs": [
    {
     "data": {
      "text/plain": [
       "[0, 1, 2, 3, 4, 6, 9]"
      ]
     },
     "execution_count": 4,
     "metadata": {},
     "output_type": "execute_result"
    }
   ],
   "source": [
    "best_predictors = wrapper_criterion(X, y, 'bic')\n",
    "best_predictors"
   ]
  },
  {
   "cell_type": "code",
   "execution_count": 5,
   "metadata": {},
   "outputs": [
    {
     "data": {
      "text/plain": [
       "[0, 1, 2, 3, 5]"
      ]
     },
     "execution_count": 5,
     "metadata": {},
     "output_type": "execute_result"
    }
   ],
   "source": [
    "best_predictors = CMIM(X_discr, y)\n",
    "best_predictors"
   ]
  },
  {
   "cell_type": "code",
   "execution_count": 6,
   "metadata": {},
   "outputs": [
    {
     "data": {
      "text/plain": [
       "[0, 1, 2, 5, 9]"
      ]
     },
     "execution_count": 6,
     "metadata": {},
     "output_type": "execute_result"
    }
   ],
   "source": [
    "best_predictors = JMIM(X_discr, y)\n",
    "best_predictors"
   ]
  },
  {
   "cell_type": "code",
   "execution_count": 7,
   "metadata": {},
   "outputs": [
    {
     "data": {
      "text/plain": [
       "[0, 1, 2, 5, 9]"
      ]
     },
     "execution_count": 7,
     "metadata": {},
     "output_type": "execute_result"
    }
   ],
   "source": [
    "best_predictors = IGFS(X_discr, y)\n",
    "best_predictors"
   ]
  },
  {
   "cell_type": "code",
   "execution_count": 8,
   "metadata": {},
   "outputs": [],
   "source": [
    "data = {}\n",
    "\n",
    "# Divorce dataset, source https://www.kaggle.com/datasets/rabieelkharoua/split-or-stay-divorce-predictor-dataset\n",
    "# divorce = pd.read_csv(\"data/divorce.csv\", sep=\";\")\n",
    "\n",
    "# data[\"divorce\"] = {}\n",
    "# data[\"divorce\"][\"X_orig\"] = divorce.drop(\"Class\", axis=1).to_numpy()\n",
    "# data[\"divorce\"][\"X_discr\"] = divorce.drop(\"Class\", axis=1).to_numpy()\n",
    "# data[\"divorce\"][\"y\"] = divorce[\"Class\"].to_numpy()\n",
    "\n",
    "\n",
    "# AIDS classification dataset, source: https://www.kaggle.com/datasets/aadarshvelu/aids-virus-infection-prediction\n",
    "aids = pd.read_csv(\"data/aids.csv\")\n",
    "X_aids = aids.drop(\"infected\", axis=1).to_numpy()\n",
    "\n",
    "data[\"aids\"] = {}\n",
    "data[\"aids\"][\"X_orig\"] = X_aids\n",
    "data[\"aids\"][\"X_discr\"] = discretize_dataset(X_aids)\n",
    "data[\"aids\"][\"y\"] = aids[\"infected\"].to_numpy()\n",
    "\n",
    "\n",
    "# LOL Diamond FF15 dataset, source: https://www.kaggle.com/datasets/jakejoeanderson/league-of-legends-diamond-matches-ff15\n",
    "# lol = pd.read_csv(\"data/lol.csv\")\n",
    "# X_lol = lol.drop([\"match_id\", \"blue_Win\"], axis=1).to_numpy()\n",
    "\n",
    "# data[\"lol\"] = {}\n",
    "# data[\"lol\"][\"X_orig\"] = X_lol\n",
    "# data[\"lol\"][\"X_discr\"] = discretize_dataset(X_lol)\n",
    "# data[\"lol\"][\"y\"] = lol[\"blue_Win\"].to_numpy()\n",
    "\n",
    "\n",
    "# Cancer dataset, source: https://www.kaggle.com/datasets/erdemtaha/cancer-data\n",
    "cancer = pd.read_csv(\"data/cancer.csv\")\n",
    "cancer.loc[cancer[\"diagnosis\"] == \"M\", \"diagnosis\"] = 0\n",
    "cancer.loc[cancer[\"diagnosis\"] == \"B\", \"diagnosis\"] = 1\n",
    "X_cancer = cancer.drop([\"id\", \"diagnosis\", \"Unnamed: 32\"], axis=1).to_numpy()\n",
    "\n",
    "data[\"cancer\"] = {}\n",
    "data[\"cancer\"][\"X_orig\"] = X_cancer\n",
    "data[\"cancer\"][\"X_discr\"] = discretize_dataset(X_cancer)\n",
    "data[\"cancer\"][\"y\"] = cancer[\"diagnosis\"].to_numpy().astype(int)\n",
    "\n",
    "# Gait classification, source: https://archive.ics.uci.edu/dataset/604/gait+classification\n",
    "# gait = loadmat(\"data/gait.mat\")\n",
    "\n",
    "# X_gait = gait[\"X\"]\n",
    "# y_gait = gait[\"Y\"].T[0]\n",
    "\n",
    "# inds_to_del = []\n",
    "# for i in range(X_gait.shape[0]):\n",
    "#     if np.sum(np.isnan(X_gait[i, :])) != 0:\n",
    "#         inds_to_del.append(i)\n",
    "# X_gait = np.delete(X_gait, (inds_to_del), axis=0)\n",
    "# y_gait = np.delete(y_gait, (inds_to_del), axis=0)\n",
    "\n",
    "# data[\"gait\"] = {}\n",
    "# data[\"gait\"][\"X_orig\"] = X_gait\n",
    "# data[\"gait\"][\"X_discr\"] = discretize_dataset(X_gait)\n",
    "# data[\"gait\"][\"y\"] = pd.cut(y_gait, 3, labels=False)\n",
    "\n",
    "# Generated data\n",
    "X_gen, y_gen = generate_data(\n",
    "    betas=[0, 1, 1, 1, 1, 1],\n",
    "    dataset_variant=0,\n",
    "    n_classes=2,\n",
    ")\n",
    "\n",
    "data[\"generated\"] = {}\n",
    "data[\"generated\"][\"X_orig\"] = X_gen\n",
    "data[\"generated\"][\"X_discr\"] = discretize_dataset(X_gen)\n",
    "data[\"generated\"][\"y\"] = y_gen"
   ]
  },
  {
   "cell_type": "code",
   "execution_count": 9,
   "metadata": {},
   "outputs": [
    {
     "name": "stdout",
     "output_type": "stream",
     "text": [
      "Finding relevant features for aids dataset...\n",
      "Calculations completed!\n",
      "Finding relevant features for cancer dataset...\n",
      "Calculations completed!\n",
      "Finding relevant features for generated dataset...\n",
      "Calculations completed!\n"
     ]
    }
   ],
   "source": [
    "datasets = [key for key, _ in data.items()]\n",
    "relevant_features = {}\n",
    "\n",
    "for key in datasets:\n",
    "    print(f\"Finding relevant features for {key} dataset...\")\n",
    "    relevant_features[key] = find_relevant_features(data[key][\"X_discr\"], data[key][\"y\"])"
   ]
  },
  {
   "cell_type": "code",
   "execution_count": 12,
   "metadata": {},
   "outputs": [
    {
     "name": "stderr",
     "output_type": "stream",
     "text": [
      "Processing dataset aids: 100%|██████████| 5/5 [00:01<00:00,  4.25it/s]\n",
      "Processing dataset cancer: 100%|██████████| 5/5 [00:00<00:00, 58.14it/s]\n",
      "Processing dataset generated: 100%|██████████| 5/5 [00:00<00:00, 21.27it/s]\n"
     ]
    }
   ],
   "source": [
    "accuracy_scores = {}\n",
    "for dataset, _ in relevant_features.items():\n",
    "    accuracy_scores[dataset] = {}\n",
    "    for method, val in tqdm(relevant_features[dataset].items(), f\"Processing dataset {dataset}\"):\n",
    "        X = data[dataset][\"X_orig\"][:, val]\n",
    "        y = data[dataset][\"y\"]\n",
    "        clf = SVC()\n",
    "        accuracy_scores[dataset][method] = cross_val_score(clf, X, y, cv=3)\n",
    "\n",
    "    clf = SVC()\n",
    "    accuracy_scores[dataset][\"full_data\"] = cross_val_score(\n",
    "        clf, \n",
    "        data[dataset][\"X_orig\"],\n",
    "        data[dataset][\"y\"],\n",
    "        cv=3\n",
    "    )"
   ]
  },
  {
   "cell_type": "code",
   "execution_count": 37,
   "metadata": {},
   "outputs": [],
   "source": [
    "def plot_results(df):\n",
    "    \"\"\"Plot boxplots showing index of succes for different feature selection methods.\"\"\"\n",
    "    fig, ax = plt.subplots(figsize=(6,6))\n",
    "\n",
    "    sns.boxplot(data=df, x=\"names\", y=\"scores\", fill=True, gap=.1, color=(0.125, 0.125, 0.875), ax=ax)\n",
    "\n",
    "    num_artists = len(ax.patches)\n",
    "    num_lines = len(ax.lines)\n",
    "    lines_per_artist = num_lines // num_artists\n",
    "\n",
    "    # for i, artist in enumerate(ax.patches):\n",
    "    #     color = artist.get_facecolor()\n",
    "    #     lcolor = enlighten(color)\n",
    "    #     artist.set_color(lcolor)\n",
    "    #     artist.set_edgecolor(color)\n",
    "    #     for j in range(lines_per_artist):\n",
    "    #         ax.lines[i * lines_per_artist + j].set_color(color)\n",
    "\n",
    "    plt.title('')\n",
    "    plt.show()"
   ]
  },
  {
   "cell_type": "code",
   "execution_count": 38,
   "metadata": {},
   "outputs": [],
   "source": [
    "names = []\n",
    "scores = []\n",
    "for method, acc in accuracy_scores[\"aids\"].items():\n",
    "    names = names + [method for i in range(acc.shape[0])]\n",
    "    scores = scores + list(acc)\n",
    "\n",
    "df = pd.DataFrame(\n",
    "    {\n",
    "        \"scores\": scores,\n",
    "        \"names\": names\n",
    "    }\n",
    ")"
   ]
  },
  {
   "cell_type": "code",
   "execution_count": null,
   "metadata": {},
   "outputs": [],
   "source": [
    "plot_results(df)"
   ]
  }
 ],
 "metadata": {
  "kernelspec": {
   "display_name": "Python 3",
   "language": "python",
   "name": "python3"
  },
  "language_info": {
   "codemirror_mode": {
    "name": "ipython",
    "version": 3
   },
   "file_extension": ".py",
   "mimetype": "text/x-python",
   "name": "python",
   "nbconvert_exporter": "python",
   "pygments_lexer": "ipython3",
   "version": "3.10.14"
  }
 },
 "nbformat": 4,
 "nbformat_minor": 2
}
