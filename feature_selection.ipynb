{
 "cells": [
  {
   "cell_type": "code",
   "execution_count": 1,
   "metadata": {},
   "outputs": [],
   "source": [
    "import numpy as np\n",
    "import pandas as pd\n",
    "\n",
    "from sklearn.preprocessing import LabelEncoder\n",
    "from sklearn.model_selection import train_test_split, cross_val_score\n",
    "from sklearn.metrics import accuracy_score\n",
    "from sklearn.ensemble import GradientBoostingClassifier\n",
    "from tqdm import tqdm\n",
    "\n",
    "from src.data import generate_data, discretize_dataset\n",
    "from src.feature_selection import CMIM, JMIM, IGFS, wrapper_criterion, l1_selection, find_relevant_features"
   ]
  },
  {
   "cell_type": "code",
   "execution_count": 2,
   "metadata": {},
   "outputs": [],
   "source": [
    "X, y = generate_data(\n",
    "    betas=[6, 5, 4, 3, 2, 1],\n",
    "    dataset_variant=2\n",
    ")\n",
    "X_discr = np.copy(X)\n",
    "for i in range(X.shape[1]):\n",
    "    X_discr[:, i] = pd.cut(X[:, i], bins=10, labels=False)"
   ]
  },
  {
   "cell_type": "code",
   "execution_count": 3,
   "metadata": {},
   "outputs": [
    {
     "data": {
      "text/plain": [
       "[0, 1, 2, 3, 4, 5, 7, 10, 14]"
      ]
     },
     "execution_count": 3,
     "metadata": {},
     "output_type": "execute_result"
    }
   ],
   "source": [
    "best_predictors = wrapper_criterion(X, y, 'aic')\n",
    "best_predictors"
   ]
  },
  {
   "cell_type": "code",
   "execution_count": 4,
   "metadata": {},
   "outputs": [
    {
     "data": {
      "text/plain": [
       "[0, 1, 2, 3, 4, 5, 7, 14]"
      ]
     },
     "execution_count": 4,
     "metadata": {},
     "output_type": "execute_result"
    }
   ],
   "source": [
    "best_predictors = wrapper_criterion(X, y, 'bic')\n",
    "best_predictors"
   ]
  },
  {
   "cell_type": "code",
   "execution_count": 5,
   "metadata": {},
   "outputs": [
    {
     "data": {
      "text/plain": [
       "[0, 1, 2, 3, 5]"
      ]
     },
     "execution_count": 5,
     "metadata": {},
     "output_type": "execute_result"
    }
   ],
   "source": [
    "best_predictors = CMIM(X_discr, y)\n",
    "best_predictors"
   ]
  },
  {
   "cell_type": "code",
   "execution_count": 6,
   "metadata": {},
   "outputs": [
    {
     "data": {
      "text/plain": [
       "[0, 1, 2, 5, 6]"
      ]
     },
     "execution_count": 6,
     "metadata": {},
     "output_type": "execute_result"
    }
   ],
   "source": [
    "best_predictors = JMIM(X_discr, y)\n",
    "best_predictors"
   ]
  },
  {
   "cell_type": "code",
   "execution_count": 7,
   "metadata": {},
   "outputs": [
    {
     "data": {
      "text/plain": [
       "[0, 1, 2, 5, 6]"
      ]
     },
     "execution_count": 7,
     "metadata": {},
     "output_type": "execute_result"
    }
   ],
   "source": [
    "best_predictors = IGFS(X_discr, y)\n",
    "best_predictors"
   ]
  },
  {
   "cell_type": "code",
   "execution_count": 8,
   "metadata": {},
   "outputs": [],
   "source": [
    "data = {}\n",
    "\n",
    "# Divorce dataset, source https://www.kaggle.com/datasets/rabieelkharoua/split-or-stay-divorce-predictor-dataset\n",
    "divorce = pd.read_csv(\"data/divorce.csv\", sep=\";\")\n",
    "\n",
    "data[\"divorce\"] = {}\n",
    "data[\"divorce\"][\"X_orig\"] = divorce.drop(\"Class\", axis=1).to_numpy()\n",
    "data[\"divorce\"][\"X_discr\"] = divorce.drop(\"Class\", axis=1).to_numpy()\n",
    "data[\"divorce\"][\"y\"] = divorce[\"Class\"].to_numpy()\n",
    "\n",
    "\n",
    "# AIDS classification dataset, source: https://www.kaggle.com/datasets/aadarshvelu/aids-virus-infection-prediction\n",
    "aids = pd.read_csv(\"data/aids.csv\")\n",
    "X_aids = aids.drop(\"infected\", axis=1).to_numpy()\n",
    "\n",
    "data[\"aids\"] = {}\n",
    "data[\"aids\"][\"X_orig\"] = X_aids\n",
    "data[\"aids\"][\"X_discr\"] = discretize_dataset(X_aids)\n",
    "data[\"aids\"][\"y\"] = aids[\"infected\"].to_numpy()\n",
    "\n",
    "\n",
    "# RT-IoT2022 dataset, source: https://archive.ics.uci.edu/dataset/942/rt-iot2022\n",
    "# iot = pd.read_csv(\"data/iot.csv\")\n",
    "# iot.Attack_type = LabelEncoder().fit_transform(iot.Attack_type)\n",
    "# iot.proto = LabelEncoder().fit_transform(iot.proto).astype(int)\n",
    "# iot.drop([\"service\", \"Unnamed: 0\"], axis=1, inplace=True)\n",
    "# X_iot = iot.drop(\"Attack_type\", axis=1).to_numpy()\n",
    "\n",
    "# data[\"iot\"] = {}\n",
    "# data[\"iot\"][\"X_orig\"] = X_iot\n",
    "# data[\"iot\"][\"X_discr\"] = discretize_dataset(X_iot)\n",
    "# data[\"iot\"][\"y\"] = iot[\"Attack_type\"].to_numpy()\n",
    "\n",
    "# LOL Diamond FF15 dataset, source: https://www.kaggle.com/datasets/jakejoeanderson/league-of-legends-diamond-matches-ff15\n",
    "lol = pd.read_csv(\"data/lol.csv\")\n",
    "X_lol = lol.drop([\"match_id\", \"blue_Win\"], axis=1).to_numpy()\n",
    "\n",
    "data[\"lol\"] = {}\n",
    "data[\"lol\"][\"X_orig\"] = X_lol\n",
    "data[\"lol\"][\"X_discr\"] = discretize_dataset(X_lol)\n",
    "data[\"lol\"][\"y\"] = lol[\"blue_Win\"].to_numpy()\n",
    "\n",
    "\n",
    "# Cancer dataset, source: https://www.kaggle.com/datasets/erdemtaha/cancer-data\n",
    "cancer = pd.read_csv(\"data/cancer.csv\")\n",
    "cancer.loc[cancer[\"diagnosis\"] == \"M\", \"diagnosis\"] = 0\n",
    "cancer.loc[cancer[\"diagnosis\"] == \"B\", \"diagnosis\"] = 1\n",
    "X_cancer = cancer.drop([\"id\", \"diagnosis\", \"Unnamed: 32\"], axis=1).to_numpy()\n",
    "\n",
    "data[\"cancer\"] = {}\n",
    "data[\"cancer\"][\"X_orig\"] = X_cancer\n",
    "data[\"cancer\"][\"X_discr\"] = discretize_dataset(X_cancer)\n",
    "data[\"cancer\"][\"y\"] = cancer[\"diagnosis\"].to_numpy().astype(int)\n",
    "\n",
    "# Generated data\n",
    "X_gen, y_gen = generate_data(\n",
    "    betas=[6, 5, 4, 3, 2, 1],\n",
    "    dataset_variant=0,\n",
    "    n_classes=2,\n",
    ")\n",
    "\n",
    "data[\"generated\"] = {}\n",
    "data[\"generated\"][\"X_orig\"] = X_gen\n",
    "data[\"generated\"][\"X_discr\"] = discretize_dataset(X_gen)\n",
    "data[\"generated\"][\"y\"] = y_gen"
   ]
  },
  {
   "cell_type": "code",
   "execution_count": 9,
   "metadata": {},
   "outputs": [
    {
     "name": "stdout",
     "output_type": "stream",
     "text": [
      "Finding relevant features for divorce dataset...\n",
      "Calculations completed!\n",
      "Finding relevant features for aids dataset...\n",
      "Calculations completed!\n",
      "Finding relevant features for lol dataset...\n",
      "Calculations completed!\n",
      "Finding relevant features for cancer dataset...\n",
      "Calculations completed!\n",
      "Finding relevant features for generated dataset...\n",
      "Calculations completed!\n"
     ]
    }
   ],
   "source": [
    "datasets = [key for key, _ in data.items()]\n",
    "relevant_features = {}\n",
    "\n",
    "for key in datasets:\n",
    "    print(f\"Finding relevant features for {key} dataset...\")\n",
    "    relevant_features[key] = find_relevant_features(data[key][\"X_discr\"], data[key][\"y\"])"
   ]
  },
  {
   "cell_type": "code",
   "execution_count": 10,
   "metadata": {},
   "outputs": [
    {
     "data": {
      "text/plain": [
       "{'divorce': {'BIC': [5, 17, 28, 39],\n",
       "  'CMIM': [0, 10, 16, 39, 51],\n",
       "  'JMIM': [10, 17, 19, 25, 39],\n",
       "  'IGFS': [10, 16, 17, 19, 39],\n",
       "  'L1': [17, 18]},\n",
       " 'aids': {'BIC': [0, 2, 11, 14, 15, 17, 19, 21],\n",
       "  'CMIM': [0, 2, 10, 17, 19],\n",
       "  'JMIM': [0, 10, 17, 18, 19],\n",
       "  'IGFS': [0, 10, 17, 18, 19],\n",
       "  'L1': [0, 2, 4, 14, 15, 17, 19]},\n",
       " 'lol': {'BIC': [43, 82],\n",
       "  'CMIM': [0, 34, 43, 75, 76],\n",
       "  'JMIM': [0, 37, 38, 43, 81],\n",
       "  'IGFS': [37, 38, 43, 81, 82],\n",
       "  'L1': [43]},\n",
       " 'cancer': {'BIC': [2, 10, 13, 14, 15, 20, 21, 23, 26, 27, 28],\n",
       "  'CMIM': [0, 9, 21, 22, 27],\n",
       "  'JMIM': [7, 20, 21, 22, 27],\n",
       "  'IGFS': [6, 7, 20, 22, 27],\n",
       "  'L1': [1, 6, 22, 27]},\n",
       " 'generated': {'BIC': [0, 1, 2, 3, 4],\n",
       "  'CMIM': [0, 1, 2, 3, 6],\n",
       "  'JMIM': [0, 1, 2, 3, 4],\n",
       "  'IGFS': [0, 1, 2, 3, 27],\n",
       "  'L1': [0, 1, 2, 3, 4, 14, 33]}}"
      ]
     },
     "execution_count": 10,
     "metadata": {},
     "output_type": "execute_result"
    }
   ],
   "source": [
    "relevant_features"
   ]
  },
  {
   "cell_type": "code",
   "execution_count": 11,
   "metadata": {},
   "outputs": [
    {
     "name": "stderr",
     "output_type": "stream",
     "text": [
      "Processing dataset divorce: 100%|██████████| 5/5 [00:00<00:00,  7.91it/s]\n",
      "Processing dataset aids: 100%|██████████| 5/5 [00:02<00:00,  2.14it/s]\n",
      "Processing dataset lol: 100%|██████████| 5/5 [00:06<00:00,  1.34s/it]\n",
      "Processing dataset cancer: 100%|██████████| 5/5 [00:01<00:00,  3.59it/s]\n",
      "Processing dataset generated: 100%|██████████| 5/5 [00:01<00:00,  2.57it/s]\n"
     ]
    }
   ],
   "source": [
    "accuracy_scores = {}\n",
    "for dataset, _ in relevant_features.items():\n",
    "    accuracy_scores[dataset] = {}\n",
    "    for method, val in tqdm(relevant_features[dataset].items(), f\"Processing dataset {dataset}\"):\n",
    "        X = data[dataset][\"X_orig\"][:, val]\n",
    "        y = data[dataset][\"y\"]\n",
    "        clf = GradientBoostingClassifier()\n",
    "        accuracy_scores[dataset][method] = np.mean(cross_val_score(clf, X, y, cv=3))\n",
    "\n",
    "    clf = GradientBoostingClassifier()\n",
    "    accuracy_scores[dataset][\"full_data\"] = np.mean(cross_val_score(\n",
    "        clf, \n",
    "        data[dataset][\"X_orig\"],\n",
    "        data[dataset][\"y\"],\n",
    "        cv=3\n",
    "    ))"
   ]
  },
  {
   "cell_type": "code",
   "execution_count": 12,
   "metadata": {},
   "outputs": [
    {
     "data": {
      "text/plain": [
       "{'divorce': {'BIC': 0.9348370927318296,\n",
       "  'CMIM': 0.946846282372598,\n",
       "  'JMIM': 0.9231411862990809,\n",
       "  'IGFS': 0.9348370927318296,\n",
       "  'L1': 0.9348370927318296,\n",
       "  'full_data': 0.9231411862990809},\n",
       " 'aids': {'BIC': 0.8868630201028518,\n",
       "  'CMIM': 0.8906030855539973,\n",
       "  'JMIM': 0.8831229546517063,\n",
       "  'IGFS': 0.8831229546517063,\n",
       "  'L1': 0.884992987377279,\n",
       "  'full_data': 0.8873305282842449},\n",
       " 'lol': {'BIC': 1.0,\n",
       "  'CMIM': 1.0,\n",
       "  'JMIM': 1.0,\n",
       "  'IGFS': 1.0,\n",
       "  'L1': 1.0,\n",
       "  'full_data': 1.0},\n",
       " 'cancer': {'BIC': 0.9543024227234754,\n",
       "  'CMIM': 0.9420124385036664,\n",
       "  'JMIM': 0.9578204771187228,\n",
       "  'IGFS': 0.9420124385036664,\n",
       "  'L1': 0.945521210433491,\n",
       "  'full_data': 0.9595655806182122},\n",
       " 'generated': {'BIC': 0.9369998741256227,\n",
       "  'CMIM': 0.9239958521395647,\n",
       "  'JMIM': 0.9369998741256227,\n",
       "  'IGFS': 0.9239958521395647,\n",
       "  'L1': 0.9340058621495748,\n",
       "  'full_data': 0.9150108192024359}}"
      ]
     },
     "execution_count": 12,
     "metadata": {},
     "output_type": "execute_result"
    }
   ],
   "source": [
    "accuracy_scores"
   ]
  },
  {
   "cell_type": "code",
   "execution_count": null,
   "metadata": {},
   "outputs": [],
   "source": []
  }
 ],
 "metadata": {
  "kernelspec": {
   "display_name": "Python 3",
   "language": "python",
   "name": "python3"
  },
  "language_info": {
   "codemirror_mode": {
    "name": "ipython",
    "version": 3
   },
   "file_extension": ".py",
   "mimetype": "text/x-python",
   "name": "python",
   "nbconvert_exporter": "python",
   "pygments_lexer": "ipython3",
   "version": "3.10.14"
  }
 },
 "nbformat": 4,
 "nbformat_minor": 2
}
